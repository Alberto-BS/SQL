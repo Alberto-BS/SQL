{
    "metadata": {
        "kernelspec": {
            "name": "SQL",
            "display_name": "SQL",
            "language": "sql"
        },
        "language_info": {
            "name": "sql",
            "version": ""
        }
    },
    "nbformat_minor": 2,
    "nbformat": 4,
    "cells": [
        {
            "cell_type": "code",
            "source": [
                ""
            ],
            "metadata": {
                "azdata_cell_guid": "47df7111-3208-42fd-9047-ea5325129827",
                "language": "sql"
            },
            "outputs": [],
            "execution_count": null
        },
        {
            "cell_type": "markdown",
            "source": [
                "1\\. seleccionar los productos cuyo nombre (Name) tenga cinco caracteres \n",
                "\n",
                "  \n",
                "\n",
                " 2. seleccionar los productos cuyo color sea Rojo (Red) \n",
                "\n",
                "  \n",
                "\n",
                " 3. seleccionar los productos cuyo color sea Azul (Blue) y ordenados por Name\n",
                "\n",
                "  \n",
                "\n",
                " 4. seleccionar los productos cuyo color sea Azul o Rojo \n",
                "\n",
                "  \n",
                "\n",
                " 5. seleccionar los productos cuyo nombre (Name) tenga nueve caracteres y sean color plata (Silver)\n",
                "\n",
                "  \n",
                "\n",
                " 6. seleccionar los productos cuyo color sea Negro o Plata y tenga 11 caracteres. \n",
                "\n",
                "  \n",
                "\n",
                " 7. seleccionar todos los productos cuya SellStartDate sea 2008-04-30 \n",
                "\n",
                "  \n",
                "\n",
                " 8. seleccionar todos los productos cuyo SellStartDate sea del año 2008 \n",
                "\n",
                "  \n",
                "\n",
                " 9. seleccionar todos los productos cuyo SellStartDate sea de Abril. \n",
                "\n",
                "  \n",
                "\n",
                " 10. seleccionar todos los productos que comienzan por a\n",
                "\n",
                "  \n",
                "\n",
                " 11. seleccionar todos los productos que terminan con g \n",
                "\n",
                "  \n",
                "\n",
                " 12. seleccionar todos los productos que comienzan por C y terminan por g \n",
                "\n",
                "  \n",
                "\n",
                " 13. seleccionar todos los productos que contengan una a \n",
                "\n",
                "  \n",
                "\n",
                " 14. seleccionar todos los productos cuya SellstartDate sea del año 2008 y comiencen por C, terminan por g y son de color Plata (Silver)\n",
                "\n",
                "  \n",
                "\n",
                "15\\. seleccionar todos los productos y cuyo peso Weight esté entre 15 y 20. \n",
                "\n",
                "  \n",
                "\n",
                " 16. seleccionar todos los productos cuyo peso Weight esté entre 15 y 20 y su Size es 42,44 o 46. \n",
                "\n",
                "  \n",
                "\n",
                " 17. seleccionar todos los productos cuyo SellStartDate esté entre 2008-04-30 y una semana después."
            ],
            "metadata": {
                "azdata_cell_guid": "784c59fc-d7e7-4538-a356-59fa9b03e80e"
            },
            "attachments": {}
        },
        {
            "cell_type": "code",
            "source": [
                "SELECT * FROM produc"
            ],
            "metadata": {
                "azdata_cell_guid": "1ecf2fc6-7056-42a9-9a62-a310daa809ff",
                "language": "sql"
            },
            "outputs": [],
            "execution_count": null
        }
    ]
}